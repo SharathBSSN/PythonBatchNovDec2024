{
 "cells": [
  {
   "cell_type": "markdown",
   "metadata": {},
   "source": [
    "## Intro to Jupyter Notebooks and Print Functions"
   ]
  },
  {
   "cell_type": "markdown",
   "metadata": {},
   "source": [
    "###print()"
   ]
  },
  {
   "cell_type": "code",
   "execution_count": 2,
   "metadata": {},
   "outputs": [
    {
     "name": "stdout",
     "output_type": "stream",
     "text": [
      "Exhit A with end=' ' Exhibit B comming from another print()\n"
     ]
    }
   ],
   "source": [
    "print(\"Exhit A with end=' '\", end=\" \")\n",
    "print(\"Exhibit B comming from another print()\")\n"
   ]
  },
  {
   "cell_type": "code",
   "execution_count": null,
   "metadata": {},
   "outputs": [
    {
     "name": "stdout",
     "output_type": "stream",
     "text": [
      "Exhit A with end=' ' Exhibit B comming from another 2nd print()\tExhibit c comming from another 3rd print()\n"
     ]
    }
   ],
   "source": [
    "\n",
    "print(\"Exhit A with end=' '\", end=\" \")\n",
    "print(\"Exhibit B comming from another 2nd print()\", sep=\"_\", end=\"\\t\")\n",
    "print(\"Exhibit c comming from another 3rd print()\", sep=\"~\")"
   ]
  },
  {
   "cell_type": "markdown",
   "metadata": {},
   "source": [
    "### Use of \\b"
   ]
  },
  {
   "cell_type": "code",
   "execution_count": 10,
   "metadata": {},
   "outputs": [
    {
     "name": "stdout",
     "output_type": "stream",
     "text": [
      "this is how you use in print func\n"
     ]
    }
   ],
   "source": [
    "print(\"this is how you use y\\bin print func\")"
   ]
  },
  {
   "cell_type": "code",
   "execution_count": 11,
   "metadata": {},
   "outputs": [
    {
     "name": "stdout",
     "output_type": "stream",
     "text": [
      "\bfirstchar\n"
     ]
    }
   ],
   "source": [
    "\n",
    "print(\"\\bfirstchar\")\n"
   ]
  },
  {
   "cell_type": "code",
   "execution_count": 12,
   "metadata": {},
   "outputs": [
    {
     "data": {
      "text/plain": [
       "'\\x08firstchar'"
      ]
     },
     "execution_count": 12,
     "metadata": {},
     "output_type": "execute_result"
    }
   ],
   "source": [
    "\n",
    "'\\bfirstchar'"
   ]
  },
  {
   "cell_type": "markdown",
   "metadata": {},
   "source": [
    "### Use of \\r - overwrites the (prev)existing line"
   ]
  },
  {
   "cell_type": "code",
   "execution_count": 7,
   "metadata": {},
   "outputs": [
    {
     "name": "stdout",
     "output_type": "stream",
     "text": [
      "Only this will be printed\n"
     ]
    }
   ],
   "source": [
    "print(\"You cannot see this\\rOnly this will be printed\")"
   ]
  },
  {
   "cell_type": "code",
   "execution_count": 8,
   "metadata": {},
   "outputs": [
    {
     "name": "stdout",
     "output_type": "stream",
     "text": [
      "FirstChar\n"
     ]
    }
   ],
   "source": [
    "print(\"\\rFirstChar\")"
   ]
  },
  {
   "cell_type": "code",
   "execution_count": 9,
   "metadata": {},
   "outputs": [
    {
     "data": {
      "text/plain": [
       "'\\rFirstChar'"
      ]
     },
     "execution_count": 9,
     "metadata": {},
     "output_type": "execute_result"
    }
   ],
   "source": [
    "'\\rFirstChar'"
   ]
  },
  {
   "cell_type": "markdown",
   "metadata": {},
   "source": [
    "#### Ref ASCII Table - https://www.ascii-code.com/\n",
    "\n",
    "For Numbers, Special char and English Letters, total of 0 to 255 characters\n",
    "\n",
    "#### Ref UNICODE - https://home.unicode.org/\n",
    "\n",
    "For beyond ASCII, usage by '\\u'"
   ]
  },
  {
   "cell_type": "code",
   "execution_count": 16,
   "metadata": {},
   "outputs": [
    {
     "name": "stdout",
     "output_type": "stream",
     "text": [
      "₹\n",
      "Ǝ\n",
      "&\n"
     ]
    }
   ],
   "source": [
    "print(\"\\u20B9\") # using unicode\n",
    "print(\"\\u018e\") # using unicode\n",
    "print(\"\\046\") # w/o using unicode -> ASCII"
   ]
  }
 ],
 "metadata": {
  "kernelspec": {
   "display_name": "Python 3",
   "language": "python",
   "name": "python3"
  },
  "language_info": {
   "codemirror_mode": {
    "name": "ipython",
    "version": 3
   },
   "file_extension": ".py",
   "mimetype": "text/x-python",
   "name": "python",
   "nbconvert_exporter": "python",
   "pygments_lexer": "ipython3",
   "version": "3.12.1"
  }
 },
 "nbformat": 4,
 "nbformat_minor": 2
}
