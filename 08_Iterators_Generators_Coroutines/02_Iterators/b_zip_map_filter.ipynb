{
 "cells": [
  {
   "cell_type": "markdown",
   "metadata": {},
   "source": [
    "# zip(), map(), filter() result objects\n",
    "    - lazy loading  object (or) on-demand loading object\n",
    "    - Iterators are disposable objects\n",
    "        - one time use only"
   ]
  },
  {
   "cell_type": "code",
   "execution_count": 2,
   "metadata": {},
   "outputs": [],
   "source": [
    "# iterables\n",
    "alpha = {\"a\", \"e\", \"i\", \"o\", \"u\"}\n",
    "nums = (\"1\", \"2\", \"3\", \"4\")"
   ]
  },
  {
   "cell_type": "code",
   "execution_count": 3,
   "metadata": {},
   "outputs": [
    {
     "name": "stdout",
     "output_type": "stream",
     "text": [
      "pairs: <class 'zip'> <zip object at 0x71dfaa79a280>\n"
     ]
    }
   ],
   "source": [
    "pairs = zip(alpha, nums)  # zip object at 0x00000165AE6CBEC0>\n",
    "print(f\"pairs: {type(pairs)} {pairs}\")"
   ]
  },
  {
   "cell_type": "code",
   "execution_count": 4,
   "metadata": {},
   "outputs": [
    {
     "name": "stdout",
     "output_type": "stream",
     "text": [
      "('o', '1')\n",
      "('u', '2')\n",
      "('e', '3')\n",
      "('a', '4')\n"
     ]
    }
   ],
   "source": [
    "# Method 1: Iterate over the object\n",
    "for ech_pair in pairs:\n",
    "    print(ech_pair)"
   ]
  },
  {
   "cell_type": "code",
   "execution_count": 5,
   "metadata": {},
   "outputs": [
    {
     "name": "stdout",
     "output_type": "stream",
     "text": [
      "pairs1: <class 'list'> []\n",
      "pairs2: <class 'tuple'> ()\n",
      "pairs3: <class 'set'> set()\n",
      "pairs4: <class 'str'> <zip object at 0x71dfaa79a280>\n"
     ]
    }
   ],
   "source": [
    "# Method 2: Convert to other iterables\n",
    "pairs1 = list(pairs)\n",
    "print(f\"pairs1: {type(pairs1)} {pairs1}\")\n",
    "\n",
    "pairs2 = tuple(pairs)\n",
    "print(f\"pairs2: {type(pairs2)} {pairs2}\")\n",
    "\n",
    "pairs3 = set(pairs)\n",
    "print(f\"pairs3: {type(pairs3)} {pairs3}\")\n",
    "\n",
    "pairs4 = str(pairs)\n",
    "print(f\"pairs4: {type(pairs4)} {pairs4}\")\n"
   ]
  },
  {
   "cell_type": "markdown",
   "metadata": {},
   "source": [
    "#### NOTE: Iterators are disposable objects. can give values only once"
   ]
  },
  {
   "cell_type": "code",
   "execution_count": 7,
   "metadata": {},
   "outputs": [
    {
     "name": "stdout",
     "output_type": "stream",
     "text": [
      "pairs1: <class 'list'> [('o', '1'), ('u', '2'), ('e', '3'), ('a', '4')]\n",
      "pairs2: <class 'tuple'> ()\n"
     ]
    }
   ],
   "source": [
    "# re-assign to retrieve values again\n",
    "pairs = zip(alpha, nums)\n",
    "pairs1 = list(pairs)\n",
    "print(f\"pairs1: {type(pairs1)} {pairs1}\")\n",
    "pairs2 = tuple(pairs)\n",
    "print(f\"pairs2: {type(pairs2)} {pairs2}\")"
   ]
  },
  {
   "cell_type": "code",
   "execution_count": 8,
   "metadata": {},
   "outputs": [
    {
     "name": "stdout",
     "output_type": "stream",
     "text": [
      "pairs2: <class 'tuple'> (('o', '1'), ('u', '2'), ('e', '3'), ('a', '4'))\n"
     ]
    }
   ],
   "source": [
    "pairs = zip(alpha, nums)\n",
    "pairs2 = tuple(pairs)\n",
    "print(f\"pairs2: {type(pairs2)} {pairs2}\")"
   ]
  },
  {
   "cell_type": "code",
   "execution_count": 9,
   "metadata": {},
   "outputs": [
    {
     "name": "stdout",
     "output_type": "stream",
     "text": [
      "pairs3: <class 'set'> {('o', '1'), ('a', '4'), ('e', '3'), ('u', '2')}\n"
     ]
    }
   ],
   "source": [
    "pairs = zip(alpha, nums)\n",
    "pairs3 = set(pairs)\n",
    "print(f\"pairs3: {type(pairs3)} {pairs3}\")"
   ]
  },
  {
   "cell_type": "code",
   "execution_count": 10,
   "metadata": {},
   "outputs": [
    {
     "name": "stdout",
     "output_type": "stream",
     "text": [
      "pairs4: <class 'str'> <zip object at 0x71dfaa7dc940>\n"
     ]
    }
   ],
   "source": [
    "pairs = zip(alpha, nums)\n",
    "pairs4 = str(pairs)  # <zip object at 0x0000000002606688>\n",
    "print(f\"pairs4: {type(pairs4)} {pairs4}\")"
   ]
  },
  {
   "cell_type": "code",
   "execution_count": 11,
   "metadata": {},
   "outputs": [
    {
     "name": "stdout",
     "output_type": "stream",
     "text": [
      "pairs5: <class 'dict'> {'o': '1', 'u': '2', 'e': '3', 'a': '4'}\n"
     ]
    }
   ],
   "source": [
    "pairs = zip(alpha, nums)\n",
    "pairs5 = dict(pairs)\n",
    "print(f\"pairs5: {type(pairs5)} {pairs5}\")"
   ]
  },
  {
   "cell_type": "code",
   "execution_count": 11,
   "metadata": {},
   "outputs": [],
   "source": [
    "## Assignment: similarly, apply on the map and filter"
   ]
  },
  {
   "cell_type": "code",
   "execution_count": 19,
   "metadata": {},
   "outputs": [
    {
     "name": "stdout",
     "output_type": "stream",
     "text": [
      "squared: <class 'map'> <map object at 0x71dfab64e620>\n"
     ]
    }
   ],
   "source": [
    "numbers = [1, 2, 3, 4]\n",
    "\n",
    "squared = map(lambda x: x**2, numbers)\n",
    "print(f\"squared: {type(squared)} {squared}\")"
   ]
  },
  {
   "cell_type": "code",
   "execution_count": 30,
   "metadata": {},
   "outputs": [
    {
     "name": "stdout",
     "output_type": "stream",
     "text": [
      "squared: <class 'list'> [1, 4, 9, 16]\n",
      "squared: <class 'tuple'> ()\n",
      "squared: <class 'tuple'> (1, 4, 9, 16)\n",
      "squared: <class 'set'> {16, 1, 4, 9}\n"
     ]
    }
   ],
   "source": [
    "numbers = [1, 2, 3, 4]\n",
    "\n",
    "squared = map(lambda x: x**2, numbers)\n",
    "list_sq = list(squared)\n",
    "print(f\"squared: {type(list_sq)} {list_sq}\")\n",
    "\n",
    "list_sq = tuple(squared)\n",
    "print(f\"squared: {type(list_sq)} {list_sq}\")\n",
    "\n",
    "numbers = [1, 2, 3, 4]\n",
    "\n",
    "squared = map(lambda x: x**2, numbers)\n",
    "list_sq = tuple(squared)\n",
    "print(f\"squared: {type(list_sq)} {list_sq}\")\n",
    "\n",
    "numbers = [1, 2, 3, 4]\n",
    "\n",
    "squared = map(lambda x: x**2, numbers)\n",
    "list_sq = set(squared)\n",
    "print(f\"squared: {type(list_sq)} {list_sq}\")\n"
   ]
  },
  {
   "cell_type": "code",
   "execution_count": 32,
   "metadata": {},
   "outputs": [
    {
     "name": "stdout",
     "output_type": "stream",
     "text": [
      "Even: <class 'list'> [2, 4]\n",
      "Even: <class 'tuple'> ()\n",
      "Even: <class 'tuple'> (2, 4)\n",
      "Even: <class 'set'> {2, 4}\n"
     ]
    }
   ],
   "source": [
    "numbers = [1, 2, 3, 4]\n",
    "\n",
    "even = filter(lambda x: x%2 == 0, numbers)\n",
    "list_ev = list(even)\n",
    "print(f\"Even: {type(list_ev)} {list_ev}\")\n",
    "\n",
    "list_ev = tuple(even)\n",
    "print(f\"Even: {type(list_ev)} {list_ev}\")\n",
    "\n",
    "\n",
    "numbers = [1, 2, 3, 4]\n",
    "\n",
    "even = filter(lambda x: x%2 == 0, numbers)\n",
    "list_ev = tuple(even)\n",
    "print(f\"Even: {type(list_ev)} {list_ev}\")\n",
    "\n",
    "numbers = [1, 2, 3, 4]\n",
    "\n",
    "even = filter(lambda x: x%2 == 0, numbers)\n",
    "list_ev = set(even)\n",
    "print(f\"Even: {type(list_ev)} {list_ev}\")\n"
   ]
  }
 ],
 "metadata": {
  "kernelspec": {
   "display_name": "Python 3",
   "language": "python",
   "name": "python3"
  },
  "language_info": {
   "codemirror_mode": {
    "name": "ipython",
    "version": 3
   },
   "file_extension": ".py",
   "mimetype": "text/x-python",
   "name": "python",
   "nbconvert_exporter": "python",
   "pygments_lexer": "ipython3",
   "version": "3.12.1"
  }
 },
 "nbformat": 4,
 "nbformat_minor": 2
}
