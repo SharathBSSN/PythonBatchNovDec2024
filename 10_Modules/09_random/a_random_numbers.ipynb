{
 "cells": [
  {
   "cell_type": "markdown",
   "metadata": {},
   "source": [
    "# random module\n",
    "\n",
    "    Python random module, uses pseudo-random generator (PRNG)\n",
    "    called the Mersenne Twister.\n",
    "\n",
    "    NOTE: random module is good enough for many purposes, including simulations,\n",
    "    numerical analysis, and games, but it's definitely not good enough for\n",
    "    cryptographic use.\n",
    "    \n",
    "    In Python3, 'secret' module is used for cryptographic purpose.\n",
    "\n"
   ]
  },
  {
   "cell_type": "code",
   "execution_count": 1,
   "metadata": {},
   "outputs": [],
   "source": [
    "import random"
   ]
  },
  {
   "cell_type": "code",
   "execution_count": 3,
   "metadata": {},
   "outputs": [
    {
     "data": {
      "text/plain": [
       "['BPF',\n",
       " 'LOG4',\n",
       " 'NV_MAGICCONST',\n",
       " 'RECIP_BPF',\n",
       " 'Random',\n",
       " 'SG_MAGICCONST',\n",
       " 'SystemRandom',\n",
       " 'TWOPI',\n",
       " '_ONE',\n",
       " '_Sequence',\n",
       " '__all__',\n",
       " '__builtins__',\n",
       " '__cached__',\n",
       " '__doc__',\n",
       " '__file__',\n",
       " '__loader__',\n",
       " '__name__',\n",
       " '__package__',\n",
       " '__spec__',\n",
       " '_accumulate',\n",
       " '_acos',\n",
       " '_bisect',\n",
       " '_ceil',\n",
       " '_cos',\n",
       " '_e',\n",
       " '_exp',\n",
       " '_fabs',\n",
       " '_floor',\n",
       " '_index',\n",
       " '_inst',\n",
       " '_isfinite',\n",
       " '_lgamma',\n",
       " '_log',\n",
       " '_log2',\n",
       " '_os',\n",
       " '_pi',\n",
       " '_random',\n",
       " '_repeat',\n",
       " '_sha512',\n",
       " '_sin',\n",
       " '_sqrt',\n",
       " '_test',\n",
       " '_test_generator',\n",
       " '_urandom',\n",
       " '_warn',\n",
       " 'betavariate',\n",
       " 'binomialvariate',\n",
       " 'choice',\n",
       " 'choices',\n",
       " 'expovariate',\n",
       " 'gammavariate',\n",
       " 'gauss',\n",
       " 'getrandbits',\n",
       " 'getstate',\n",
       " 'lognormvariate',\n",
       " 'normalvariate',\n",
       " 'paretovariate',\n",
       " 'randbytes',\n",
       " 'randint',\n",
       " 'random',\n",
       " 'randrange',\n",
       " 'sample',\n",
       " 'seed',\n",
       " 'setstate',\n",
       " 'shuffle',\n",
       " 'triangular',\n",
       " 'uniform',\n",
       " 'vonmisesvariate',\n",
       " 'weibullvariate']"
      ]
     },
     "execution_count": 3,
     "metadata": {},
     "output_type": "execute_result"
    }
   ],
   "source": [
    "dir(random)"
   ]
  },
  {
   "cell_type": "code",
   "execution_count": 4,
   "metadata": {},
   "outputs": [
    {
     "name": "stdout",
     "output_type": "stream",
     "text": [
      "random.random()      : 0.9349521078857825\n"
     ]
    }
   ],
   "source": [
    "# Generate a pseudo-random number between 0 and 1.\n",
    "print(\"random.random()      :\", random.random())"
   ]
  },
  {
   "cell_type": "code",
   "execution_count": 5,
   "metadata": {},
   "outputs": [
    {
     "name": "stdout",
     "output_type": "stream",
     "text": [
      "random.random() * 100: 87.40583240970003\n",
      "random.random() * 100: 21.833615655355565\n"
     ]
    }
   ],
   "source": [
    "# Generate a large pseudo-random number\n",
    "print(\"random.random() * 100:\", random.random() * 100)\n",
    "print(\"random.random() * 100:\", random.random() * 100)"
   ]
  },
  {
   "cell_type": "code",
   "execution_count": 17,
   "metadata": {},
   "outputs": [],
   "source": [
    "# if we set the seed, we guarantee that we will get the same answer\n",
    "random.seed(18485)\n",
    "# NOTE: only supported seed types are: None,int, float, str, bytes, and bytearray."
   ]
  },
  {
   "cell_type": "code",
   "execution_count": 18,
   "metadata": {},
   "outputs": [
    {
     "name": "stdout",
     "output_type": "stream",
     "text": [
      "0.6797936184081204\n",
      "0.9122712611873796\n",
      "0.12926723301605425\n"
     ]
    }
   ],
   "source": [
    "print(random.random())  # should give 0.6797936184081204\n",
    "print(random.random())  # should give 0.9122712611873796\n",
    "print(random.random())  # should give 0.12926723301605425"
   ]
  },
  {
   "cell_type": "code",
   "execution_count": 19,
   "metadata": {},
   "outputs": [
    {
     "name": "stdout",
     "output_type": "stream",
     "text": [
      "[0.7725766895236029, 0.850635131875668, 0.11481894112205038]\n"
     ]
    }
   ],
   "source": [
    "random.seed(\"slartibartfast\")\n",
    "s = [random.random() for i in range(3)]\n",
    "print(s)  # should give [0.7725766895236029, 0.850635131875668, 0.11481894112205038]"
   ]
  },
  {
   "cell_type": "code",
   "execution_count": 22,
   "metadata": {},
   "outputs": [
    {
     "name": "stdout",
     "output_type": "stream",
     "text": [
      "os.urandom(1024) b'\\xb2d\\x91\\x13p\\x8eDM\\x9a\\xb2=\\x16\\xf6\\xda\\x9cI\\xdf\\xceid~\\x9e\\xe8\\x03\\xa9Q0>\\xd3K=i4\\x1e\\xe4 \\xba\\xde\\xa8\\x1e\\xb3\\xfb\\xdb\\x13\\xe3\\x981\\xd4\\x96\\x8d\\x13h\\xb4\\x99\\xe9\\x95\\xd0f\\xb9\\x98\\x80\\x85H7\\xa1\\x8a\\xbe\\xac\\xdc\\x9a\\n_\\xfdM\\xa6?\\xd2\\xa5\\xad\\xeeL\\xef\\xfa\\xa7\\x10\\x95\\xe3,6\\xab\\x05\\x14\\xdc\\xac96\\xf6\\x82Z\\xf2a?\\xb8D\\x95\\t\\x90{\\x8c.\\xf3=\\x19=\\x8d\\xc7\"\\x8ae\\xb0\\x9a\\xb6\\xcc\\xbd\\x18\\xeaa5\\xd5\\xb5\\xf5\\x7f\\xfbx\\x17 \\x91\\x8c\\xd0\\x07\\xc3\\x1cI\\xee\\x9cs\\xd9\\x95e\\xd39\\x14\\xe0\\xec\\xcb\\x91\\x96\\xa2I8\\xf7|\\x02\\x81\\x88\\xdd\\xef\\xc1\\xd0~\\xf6$\\xe0\\x03\\xa98De\\x9a\\xef\\xc8\\x16\\x97\\x92\\x19!`V]\\xcf\\xf0\\x01\\xc1\\x88\\xc4<Y\\xae\\x17\\xb6\\xf1z\\tppEd\\x8b\\xf5\\xe50C2\\xf1\\xdf\\x10^&\"u \\x8cB\\x12\\xd6\\x95\\xd8}\\xf3KY\\xb8\\xad\\x990R\\xf5q4\\xaeU\\x88[\\xb8\\xec\\x10bC\\xa5)\\x08\\xafPjl\\xff\\x13l\\xff\\xf6\\xe1C>No\\xf2\\xea`i\\x1c/H\\xa1\\xd1)$\\xa1\\xad\\x10\\x8f\\xea\\xf9\\xecF\\n\\xb9\\x85\\xcb\\xf8\\xaf;HN\\xd4*\\xf0\\xd1Qo\\x05\\xa1V\\xa8\\x9e\\x11\\xe9\\xdfk\\xf10h\\x86\\xd3[\\xbe\\xb8\\x84\\xc9\\xa3U\\xcb9\\x83\\xba\\xabI*\\xab\\x8c\\xd4\\x90\\xfa\\xe5f\\x16\\xd4\\xb3\\xdfhS:\\xb9\\x06Y#\\x86b\\xac\\x82\\xd0\\xd9\\xdc\\x9b\\xc5%\\x07\\xf5%\\\\\\xa2({\\xb4mg\\xeca\\xc9m)wf\\x80\\xe6\\x9c7+H,r\\x05CN\\x00`\\x86\\xd7\\xcc[|\\xf9w0Z\\xa4N>Gm0,\\xdf\\x85\\xcbA\\x10\\x06\\x13\\xceI\\xa1\\xc4^n\\x92\\x07o\\xca%\\xc1\\xa1\\xab4\\xe6\\x92\\x01\\x8a4\\xb6s~\\xe5,\\xb3\\x06Nq\\x8bA#\\xd1_\\xf0\\xe62\\xc13o\\xd0\\xe5\\xd2\\x92A0\\xfb\\xd1; \\xef\\xf1a`\\xcb`\\xf6\\x88\\xffL\\xcd\\xf9=\"\\xf7$[u\\xbc\\x84\\xa0\\x96g\\xb7\\x95?\\x92y\\xeb\\x86~\\x14\\xf1\\xa2\\x8el\\xc3\\\\k\\xba\\xa4\\x99ilm\\x1a\\x1b\\xdb\\xf9\\xc2\\x81-\\x06A\\xc8m\\x12B=o\\x82v\\xfd\\xdc\\xd6\\xf7p\\xf3\\x88\\x88\\x19\\xf3{l\\x8b\\xe6\\xeb\\xea\\x11\\xee\\x9b\\x99\\xb0R\\xbc\\x8f\\xde\\xbf3\\xf4\\xf6\\xae\\x15\\xe6\\x9b\\xc8_\\xd0\\xee\\x1a~\\xd0\\x8e\\x92\\xf6\\x05\\xc9*\\x15\\xfcc\\xf7\\xbb\\xbc\\xccx\\x93\\xf0\\xb3\"\\xbd\\x95\\xd0\\x17Z\\xf0\\x03\\xedA\\x83\\x84\\xbf\\xd2\\xf6\\xa1Qy\\x8d*\\x16\\xe3;\\x9c\\x17I\\x0e2\\x8b\\xca\\x94]?\\x1b\\xe1\\xbf\\x99\\xb9\\xe27\\x98\\xd2\\xb2\\xae\\x85K\\xb8\\x1a\\xb6\\xc2E\\xfe\\xfcw\\xfe3\\xe3\\x8b\\xca\\xe8N{\\xa93\\xedV\\xbft\\x0f\\x04\\x8b\\x97\\x9d-\\xf85Q\\xa5m\\xa3>\\xf12\\xb7\\xb9+)\\x95\\xafn\\xbc\\x1e[=5\\x7f\\x11\\xf73\\xd0\\xa0\\x96\\x01pr\\x1a\\x80\\xf0\\t\\xf54\\x0ez\\r\\xb4j:\\'\\x9fK\\x9f\\xad\\x84\\xc7\\x03\\xc1\\x11b\\xc8\\xdd\\xf4\\xd2u\\xa6l\\x1beE\\xf4\\xc9e\\x1a\\xc4\\x96\\x97\\x1b\\xd8\\x88m\\xbfV\\xf0\\xbf\\xaf\\x178\\xdf\\xf05}\\x13\\xd0\\x17\\x91\\x15&X~\\x8b\\x04\\xb3B:\\\\\\xef\\x9em\\x88\\x07\\xe1\\x18~\\xfb\\xd6\\x8a7\\x95\\x9f\\x11\\xfd}E\\xc7\\x8f\\x83>e\\x9c\\x0f5*\\x88\\xe5K\\x1aL\\xc8\\x0e\\xf4\\xaa\\xb2\\\\t\\x1c`\\xfc\\xc6j\\xc0\\x07\\xf5\\x8aD\\x89f\\xdc\\xf2p+\\x82nn\\x9f5g\\\\Gd\\xa9^\\x15\\xb0n\\x12KI\\x9fJ\\xe9\\xb8\\xa4\\xa7\\xb8\\xcc\\x834\\x14\\xdfOL\\xf6\\'\\x9eeX\\xad\\x18\\xd6\\xadd\\\\D:G\\x16\\x86\\x90\\xa7\\x81\\xe2\\xa5mRV\\xad\\t)\\xf0l\\x99\\x80\\xa6\\x00\\x15 @\\x8a\\xa6\\xc5C\\xd3N*\\xd6\\xe93\\xb9\\xfc1\\xdb\\x18\\x81\\x08\\x86\\n\\xffs\\xb3\\xf5\\xe7\\xfd\\xcc\\x94\\xde\\xd6\\xabL\\x81\\x92\\x1e\\xda}\\x07\\xfa#\\xa1\\xbbk a\\xca<6,\\x8di\\xd0*\\xfedr\\xb9\\xd5\\x0c\\x9c\\xd5Oy\\xeb\\xf6\\xb7q\\x18 \\t\\xeb\\x9etO\\xd3\\x8a\\x80#\\xb2\\x83\\x19\\x1f\\xb6\\xe9\\x08\\xfa\\xee\\xdfG#*\\xc46P\\xe9\\x0f\\x82U\\x02~\\xf1\\x0c\\xff\\x8d\\xb5\\x0c\\xf6Y\\x9c\\xea?#\\xce\\xe1|\\x01*<\\xac\\xca\\xb4\\xc9\\x85\\x0e\\x87\\xa1\\xdcn^K#\\x9e\\xa8\\x9d\\xe6\\xdb{\\x10\\xc8.\\r&\\xcb!\\xbd9\\xdd\\xcf\\x84f\\xd6\\x0c'\n"
     ]
    }
   ],
   "source": [
    "import os\n",
    "\n",
    "print(\"os.urandom(1024)\", os.urandom(1024))\n",
    "random.seed(os.urandom(1024))"
   ]
  },
  {
   "cell_type": "code",
   "execution_count": 24,
   "metadata": {},
   "outputs": [
    {
     "name": "stdout",
     "output_type": "stream",
     "text": [
      "0.6340515383689018\n",
      "0.10524767752984476\n",
      "0.1927204677744876\n"
     ]
    }
   ],
   "source": [
    "#Will not be same\n",
    "\n",
    "print(random.random())  # should give 0.7819713562511514\n",
    "print(random.random())  # should give 0.4669615948613485\n",
    "print(random.random())  # should give 0.6987920562874854"
   ]
  },
  {
   "cell_type": "code",
   "execution_count": 25,
   "metadata": {},
   "outputs": [
    {
     "name": "stdout",
     "output_type": "stream",
     "text": [
      "98\n"
     ]
    }
   ],
   "source": [
    "# Pick a random number between 1 and 100.\n",
    "print(random.randint(1, 100))  # 75\n",
    "# randint also includes the upper bound value\n"
   ]
  },
  {
   "cell_type": "code",
   "execution_count": 29,
   "metadata": {},
   "outputs": [
    {
     "name": "stdout",
     "output_type": "stream",
     "text": [
      "3.3933001662134386\n"
     ]
    }
   ],
   "source": [
    "\n",
    "# Pick a random floating point number between 1 and 10\n",
    "# random.uniform(a,b) => a <= N <= b\n",
    "print(random.uniform(1, 10))\n"
   ]
  },
  {
   "cell_type": "code",
   "execution_count": 32,
   "metadata": {},
   "outputs": [
    {
     "name": "stdout",
     "output_type": "stream",
     "text": [
      "0\n",
      "35\n",
      "85\n"
     ]
    }
   ],
   "source": [
    "# Generate a randomly selected element from range(start, stop, step)\n",
    "# random.randrange(start, stop[, step])\n",
    "for i in range(3):\n",
    "    print(random.randrange(0, 101, 5))"
   ]
  },
  {
   "cell_type": "code",
   "execution_count": 14,
   "metadata": {},
   "outputs": [
    {
     "name": "stdout",
     "output_type": "stream",
     "text": [
      "[1]\n",
      "[8, 5, 2, 7]\n"
     ]
    }
   ],
   "source": [
    "items = [1, 2, 3, 4, 5, 6, 7, 8, 9, 10]\n",
    "\n",
    "# Pick a random item from the list\n",
    "x = random.sample(items, 1)\n",
    "print(x)\n",
    "# Pick 4 random items from the list\n",
    "y = random.sample(items, 4)\n",
    "print(y)\n"
   ]
  },
  {
   "cell_type": "code",
   "execution_count": 33,
   "metadata": {},
   "outputs": [
    {
     "name": "stdout",
     "output_type": "stream",
     "text": [
      "Vindhya\n",
      "['Andes', 'Ural', 'Himalayas']\n",
      "Himalayas\n"
     ]
    }
   ],
   "source": [
    "mountains = [\"Andes\", \"Himalayas\", \"Alphes\", \"Aplachein\", \"Ural\", \"Vindhya\"]\n",
    "\n",
    "# Pick a random item from the list\n",
    "x = random.sample(mountains, 1)\n",
    "print(x[0])\n",
    "\n",
    "# Pick 3 random items from the list\n",
    "y = random.sample(mountains, 3)\n",
    "print(y)\n",
    "\n",
    "# Pick a random item from the list\n",
    "x = random.choice(mountains)\n",
    "print(x)"
   ]
  },
  {
   "cell_type": "code",
   "execution_count": 34,
   "metadata": {},
   "outputs": [
    {
     "name": "stdout",
     "output_type": "stream",
     "text": [
      "after shuffle [2, 1, 9, 7, 8, 10, 5, 6, 3, 4]\n"
     ]
    }
   ],
   "source": [
    "\n",
    "# # To shuffle a list of elements\n",
    "# def shuffler(mylist):\n",
    "#     new_list = []\n",
    "#     while len(mylist):\n",
    "#         rand_pos = random.randint(0, len(mylist))\n",
    "#         new_list.append(mylist[rand_pos])\n",
    "#         del mylist[rand_pos]\n",
    "#     return new_list\n",
    "\n",
    "\n",
    "# print(shuffler([\"a\", \"b\", \"c\", \"d\", \"e\"]))\n",
    "\n",
    "numbers = [1, 2, 3, 4, 5, 6, 7, 8, 9, 10]\n",
    "random.shuffle(numbers)\n",
    "print(\"after shuffle\", numbers)"
   ]
  },
  {
   "cell_type": "markdown",
   "metadata": {},
   "source": [
    "### tossing_coin"
   ]
  },
  {
   "cell_type": "code",
   "execution_count": 35,
   "metadata": {},
   "outputs": [],
   "source": [
    "\n",
    "outcomes = {\n",
    "    \"heads\": 0,\n",
    "    \"tails\": 0,\n",
    "}\n",
    "sides = list(outcomes.keys())  # ['heads', 'tails']\n"
   ]
  },
  {
   "cell_type": "code",
   "execution_count": 39,
   "metadata": {},
   "outputs": [
    {
     "data": {
      "text/plain": [
       "'tails'"
      ]
     },
     "execution_count": 39,
     "metadata": {},
     "output_type": "execute_result"
    }
   ],
   "source": [
    "random.choice(sides)"
   ]
  },
  {
   "cell_type": "code",
   "execution_count": 42,
   "metadata": {},
   "outputs": [
    {
     "data": {
      "text/plain": [
       "['heads', 'tails']"
      ]
     },
     "execution_count": 42,
     "metadata": {},
     "output_type": "execute_result"
    }
   ],
   "source": [
    "random.sample(sides, 2)"
   ]
  },
  {
   "cell_type": "code",
   "execution_count": 47,
   "metadata": {},
   "outputs": [
    {
     "name": "stdout",
     "output_type": "stream",
     "text": [
      "In 10000 tosses,\n",
      "\tHeads: 25078\n",
      "\tTails: 24922\n"
     ]
    }
   ],
   "source": [
    "for i in range(10000):\n",
    "    outcome = random.choice(sides)\n",
    "    outcomes[outcome] += 1\n",
    "\n",
    "print(\"In 10000 tosses,\")\n",
    "print(\"\\tHeads:\", outcomes[\"heads\"])\n",
    "print(\"\\tTails:\", outcomes[\"tails\"])"
   ]
  },
  {
   "cell_type": "markdown",
   "metadata": {},
   "source": [
    "### random_name_generator"
   ]
  },
  {
   "cell_type": "code",
   "execution_count": 48,
   "metadata": {},
   "outputs": [
    {
     "name": "stdout",
     "output_type": "stream",
     "text": [
      "Drew Brighton\n",
      "Drew Smith\n",
      "Tyler Smith\n",
      "Tom Jones\n",
      "Tom Brighton\n"
     ]
    }
   ],
   "source": [
    "import random\n",
    "\n",
    "\n",
    "def random_name_generator(first, second, count):\n",
    "    _names = []\n",
    "    for _ in range(count):\n",
    "        fst_name = random.choice(first)\n",
    "        lst_name = random.choice(second)\n",
    "        name = f\"{fst_name} {lst_name}\"\n",
    "        _names.append(name)\n",
    "    return _names\n",
    "\n",
    "\n",
    "def random_name_generator(first, second, count):\n",
    "    _names = set()\n",
    "    while len(_names) < count:\n",
    "        fst_name = random.choice(first)\n",
    "        lst_name = random.choice(second)\n",
    "        name = f\"{fst_name} {lst_name}\"\n",
    "        _names.add(name)\n",
    "    return _names\n",
    "\n",
    "\n",
    "first_names = [\"Drew\", \"Mike\", \"Landon\", \"Jeremy\", \"Tyler\", \"Tom\", \"Avery\"]\n",
    "last_names = [\"Smith\", \"Jones\", \"Brighton\", \"Taylor\"]\n",
    "names = random_name_generator(first_names, last_names, 5)\n",
    "print(\"\\n\".join(names))\n",
    "\n",
    "\n"
   ]
  },
  {
   "cell_type": "code",
   "execution_count": 50,
   "metadata": {},
   "outputs": [
    {
     "name": "stdout",
     "output_type": "stream",
     "text": [
      "Tyla Smith\n",
      "Ava Smith\n",
      "Jessi Jones\n",
      "Lenny Brighton\n",
      "Jessi Brighton\n"
     ]
    }
   ],
   "source": [
    "# Assignment:\n",
    "# In runtime, take the gender name as input, and generate random name.\n",
    "# HINT: Take a dataset of female first names, and another with male first names\n",
    "# one dataset with last names\n",
    "\n",
    "import random\n",
    "\n",
    "\n",
    "def random_name_generator(first_m, first_f, second, count):\n",
    "    _names = set()\n",
    "    gender = input(\"Please give the choice of gender (M/F)\")\n",
    "    while len(_names) < count:\n",
    "        if gender.lower() == 'm':\n",
    "            fst_name = random.choice(first_m)\n",
    "        else:\n",
    "            fst_name = random.choice(first_f)\n",
    "        lst_name = random.choice(second)\n",
    "        name = f\"{fst_name} {lst_name}\"\n",
    "        _names.add(name)\n",
    "    return _names\n",
    " \n",
    "\n",
    "male_first_names = [\"Drew\", \"Mike\", \"Landon\", \"Jeremy\", \"Tyler\", \"Tom\", \"Avery\"]\n",
    "female_first_names = [\"Ava\", \"Tyla\", \"Lenny\", \"Jessi\"]\n",
    "last_names = [\"Smith\", \"Jones\", \"Brighton\", \"Taylor\"]\n",
    "names = random_name_generator(male_first_names, female_first_names, last_names, 5)\n",
    "print(\"\\n\".join(names))\n",
    "\n",
    "\n"
   ]
  }
 ],
 "metadata": {
  "kernelspec": {
   "display_name": "Python 3",
   "language": "python",
   "name": "python3"
  },
  "language_info": {
   "codemirror_mode": {
    "name": "ipython",
    "version": 3
   },
   "file_extension": ".py",
   "mimetype": "text/x-python",
   "name": "python",
   "nbconvert_exporter": "python",
   "pygments_lexer": "ipython3",
   "version": "3.12.1"
  }
 },
 "nbformat": 4,
 "nbformat_minor": 2
}
